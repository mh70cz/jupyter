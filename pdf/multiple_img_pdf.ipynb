{
 "cells": [
  {
   "cell_type": "code",
   "execution_count": 1,
   "metadata": {},
   "outputs": [],
   "source": [
    "from PIL import Image \n",
    "# \"https://stackoverflow.com/questions/27327513/create-pdf-from-a-list-of-images\""
   ]
  },
  {
   "cell_type": "code",
   "execution_count": 8,
   "metadata": {},
   "outputs": [],
   "source": [
    "src_fld = \"C:/Users/m.houska/OneDrive - Creditinfo Group/Documents/Scan/\"\n",
    "pdf_path = \"c:/tmp/scan.pdf\"\n",
    "\n",
    "img_src = [\n",
    "\"Scan_20240302_120755.png\",\n",
    "\"Scan_20240302_120850.png\",\n",
    "\"Scan_20240302_120940.png\",\n",
    "\"Scan_20240302_121025.png\",\n",
    "\"Scan_20240302_121141.png\",\n",
    "\"Scan_20240302_121308.png\",\n",
    "]\n",
    "\n",
    "\n"
   ]
  },
  {
   "cell_type": "code",
   "execution_count": 9,
   "metadata": {},
   "outputs": [
    {
     "data": {
      "text/plain": [
       "['C:/Users/m.houska/OneDrive - Creditinfo Group/Documents/Scan/Scan_20240302_120755.png',\n",
       " 'C:/Users/m.houska/OneDrive - Creditinfo Group/Documents/Scan/Scan_20240302_120850.png',\n",
       " 'C:/Users/m.houska/OneDrive - Creditinfo Group/Documents/Scan/Scan_20240302_120940.png',\n",
       " 'C:/Users/m.houska/OneDrive - Creditinfo Group/Documents/Scan/Scan_20240302_121025.png',\n",
       " 'C:/Users/m.houska/OneDrive - Creditinfo Group/Documents/Scan/Scan_20240302_121141.png',\n",
       " 'C:/Users/m.houska/OneDrive - Creditinfo Group/Documents/Scan/Scan_20240302_121308.png']"
      ]
     },
     "execution_count": 9,
     "metadata": {},
     "output_type": "execute_result"
    }
   ],
   "source": [
    "[src_fld + f for f in img_src]"
   ]
  },
  {
   "cell_type": "code",
   "execution_count": 7,
   "metadata": {},
   "outputs": [],
   "source": [
    "images = [Image.open(src_fld + f) for f in img_src]\n",
    "\n",
    "images[0].save(\n",
    "    pdf_path, \"PDF\" ,resolution=100.0, save_all=True, append_images=images[1:]\n",
    ")"
   ]
  }
 ],
 "metadata": {
  "kernelspec": {
   "display_name": "Python 3",
   "language": "python",
   "name": "python3"
  },
  "language_info": {
   "codemirror_mode": {
    "name": "ipython",
    "version": 3
   },
   "file_extension": ".py",
   "mimetype": "text/x-python",
   "name": "python",
   "nbconvert_exporter": "python",
   "pygments_lexer": "ipython3",
   "version": "3.10.5"
  },
  "orig_nbformat": 4
 },
 "nbformat": 4,
 "nbformat_minor": 2
}
