{
 "cells": [
  {
   "cell_type": "code",
   "execution_count": 22,
   "metadata": {},
   "outputs": [],
   "source": [
    "import pdf_redactor\n",
    "import re\n",
    "from pathlib import Path\n",
    "\n",
    "ORIGINAL_FILE_PATH = Path(\"./Nabidka_325690_orig.pdf\")\n",
    "REDACTED_FILE_PATH =  Path(\"./Nabidka_325690_reda.pdf\")\n",
    "# REPLACED_FILE_PATH = Path(\" \"./xxxx.pdf\")  # replace v binary modu - PDF musi byt ve \"spravnem\" formatu\n",
    "\n",
    "options = pdf_redactor.RedactorOptions()\n",
    "options.input_stream = ORIGINAL_FILE_PATH \n",
    "options.output_stream = REDACTED_FILE_PATH  \n",
    "options.content_filters = [\t\n",
    "\t(\n",
    "\t\tre.compile(\"5.206\"),\n",
    "\t\tlambda m : \"5 208\"\n",
    "\t),\n",
    "    (\n",
    "\t\tre.compile(\"11.742\"),\n",
    "\t\tlambda m : \"11 748\"\n",
    "\t),\n",
    "\n",
    "    # (\n",
    "\t# \tre.compile(u\"regex_for_orig_text\"),\n",
    "\t# \tlambda m : \"replacement\"\n",
    "\t# )\n",
    "    # u before the string (as in u\"regex_for_orig_text\") is a way of denoting a Unicode string in Python 2.7. \n",
    "    # If you're using Python 3, this prefix is no longer necessary\n",
    "]\n",
    "\n",
    "pdf_redactor.redactor(options)\n",
    "\n",
    "# replace v binary modu\n",
    "# with open(REDACTED_FILE_PATH, mode='rb') as fr:\n",
    "#     s = fr.read()\n",
    "# \n",
    "# s = s.replace(b\"206\",b\"208\")\n",
    "# s = s.replace(b\"742\",b\"748\")\n",
    "# \n",
    "# with open(REPLACED_FILE_PATH, mode='wb') as fw:\n",
    "#     fw.write(s)"
   ]
  }
 ],
 "metadata": {
  "kernelspec": {
   "display_name": "Python 3",
   "language": "python",
   "name": "python3"
  },
  "language_info": {
   "codemirror_mode": {
    "name": "ipython",
    "version": 3
   },
   "file_extension": ".py",
   "mimetype": "text/x-python",
   "name": "python",
   "nbconvert_exporter": "python",
   "pygments_lexer": "ipython3",
   "version": "3.10.5"
  }
 },
 "nbformat": 4,
 "nbformat_minor": 2
}
