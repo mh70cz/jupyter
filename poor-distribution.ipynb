{
 "cells": [
  {
   "cell_type": "code",
   "execution_count": 1,
   "metadata": {},
   "outputs": [],
   "source": [
    "import numpy as np"
   ]
  },
  {
   "cell_type": "code",
   "execution_count": 5,
   "metadata": {},
   "outputs": [],
   "source": [
    "categorical_values = np.array([1, 2, 3, 4, 5])\n",
    "target_average = 1.32 \n"
   ]
  },
  {
   "cell_type": "code",
   "execution_count": 8,
   "metadata": {},
   "outputs": [
    {
     "data": {
      "text/plain": [
       "1"
      ]
     },
     "execution_count": 8,
     "metadata": {},
     "output_type": "execute_result"
    }
   ],
   "source": [
    "categorical_values.sort()\n",
    "min_cat_val = categorical_values.min()\n",
    "max_cat_val = categorical_values.max()\n",
    "p = np.ones(len(categorical_values))"
   ]
  },
  {
   "cell_type": "code",
   "execution_count": 10,
   "metadata": {},
   "outputs": [],
   "source": [
    "adj_avg_lo = ...\n",
    "adj_avg_hi = ...\n",
    "dist_avg_min = ...\n",
    "dist_avg_max = ..."
   ]
  },
  {
   "cell_type": "code",
   "execution_count": 18,
   "metadata": {},
   "outputs": [
    {
     "name": "stdout",
     "output_type": "stream",
     "text": [
      "target_average=1.32 dist_avg_min=0.32000000000000006 dist_avg_max=3.6799999999999997\n"
     ]
    }
   ],
   "source": [
    "categorical_values = np.array([1, 2, 3, 4, 5])\n",
    "target_average = 1.32 \n",
    "\n",
    "dist_avg_min = None\n",
    "dist_avg_max = None\n",
    "\n",
    "for i in range(len(categorical_values) - 1):\n",
    "    lo = categorical_values[i]\n",
    "    hi = categorical_values[i+1]\n",
    "    if lo == target_average:\n",
    "        dist_avg_min = i\n",
    "        dist_avg_max = len(categorical_values) - i - 1\n",
    "    elif hi == target_average:\n",
    "        dist_avg_min = i+1\n",
    "        dist_avg_max = len(categorical_values) - i - 2\n",
    "    elif lo < target_average and hi > target_average:\n",
    "        dist_lo_avg = (target_average - lo) / (hi - lo)\n",
    "        dist_avg_min = i + dist_lo_avg\n",
    "        dist_avg_max = len(categorical_values) - i - 1 - dist_lo_avg\n",
    "\n",
    "    # print(i)\n",
    "print (f\"{target_average=} {dist_avg_min=} {dist_avg_max=}\")        "
   ]
  },
  {
   "cell_type": "code",
   "execution_count": 12,
   "metadata": {},
   "outputs": [
    {
     "name": "stdout",
     "output_type": "stream",
     "text": [
      "Indices: (1, 2), Values: (2, 3)\n"
     ]
    }
   ],
   "source": [
    "def find_closest_pair_average(categorical_values, target_average):\n",
    "    closest_avg = None\n",
    "    closest_indices = (-1, -1)\n",
    "\n",
    "    # Iterate over pairs of adjacent elements\n",
    "    for i in range(len(categorical_values) - 1):\n",
    "        # Calculate the average of the current pair\n",
    "        avg = (categorical_values[i] + categorical_values[i + 1]) / 2\n",
    "\n",
    "        # Update the closest average and indices if this pair is closer to the target average\n",
    "        if closest_avg is None or abs(target_average - avg) < abs(target_average - closest_avg):\n",
    "            closest_avg = avg\n",
    "            closest_indices = (i, i + 1)\n",
    "\n",
    "    # Return the closest indices and their corresponding values\n",
    "    return closest_indices, (categorical_values[closest_indices[0]], categorical_values[closest_indices[1]])\n",
    "\n",
    "# Example usage\n",
    "categorical_values = np.array([1, 2, 3, 4, 5])\n",
    "target_average = 3\n",
    "indices, values = find_closest_pair_average(categorical_values, target_average)\n",
    "print(f\"Indices: {indices}, Values: {values}\")"
   ]
  }
 ],
 "metadata": {
  "kernelspec": {
   "display_name": "Python 3",
   "language": "python",
   "name": "python3"
  },
  "language_info": {
   "codemirror_mode": {
    "name": "ipython",
    "version": 3
   },
   "file_extension": ".py",
   "mimetype": "text/x-python",
   "name": "python",
   "nbconvert_exporter": "python",
   "pygments_lexer": "ipython3",
   "version": "3.10.5"
  }
 },
 "nbformat": 4,
 "nbformat_minor": 2
}
