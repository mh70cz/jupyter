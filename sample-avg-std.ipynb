{
 "cells": [
  {
   "cell_type": "code",
   "execution_count": 230,
   "metadata": {},
   "outputs": [
    {
     "name": "stdout",
     "output_type": "stream",
     "text": [
      "Sample: [1 1 1 1 1 1 1 1 1 1 1 1 1 1 1 1 1 1 2 2 2 2 2 2 2 2]\n",
      "Average: 1.3076923076923077\n",
      "Std dev: 0.46153846153846156\n"
     ]
    }
   ],
   "source": [
    "import numpy as np\n",
    "import random\n",
    "\n",
    "\n",
    "categorical_values = np.array([1, 2, 3, 4, 5])\n",
    "p = [0.4, 0.4, 0.1, 0.06, 0.04] # distribution of random generated categorical values\n",
    "# p = None \n",
    "target_average = 1.32 \n",
    "atol = 0.02 # target average toleration\n",
    "target_std = 0.4 #target_standard deviation\n",
    "population_size = 26\n",
    "\n",
    "\n",
    "def close_to_mean(sample, target_average, atol, p ):\n",
    "    cnt = 0\n",
    "    while not np.isclose(np.mean(sample), target_average, atol):\n",
    "        if np.mean(sample) > target_average:\n",
    "            arr_to_replace_lenght = len(sample[sample > target_average])\n",
    "            arr_to_replace = np.random.choice(categorical_values, size= arr_to_replace_lenght, p=p)\n",
    "            np.place(sample,sample > target_average, arr_to_replace)\n",
    "        else:\n",
    "            arr_to_replace_lenght = len(sample[sample < target_average])\n",
    "            arr_to_replace = np.random.choice(categorical_values, arr_to_replace_lenght, p=p)\n",
    "            np.place(sample,sample < target_average, arr_to_replace)\n",
    "\n",
    "        cnt += 1\n",
    "        if cnt > 10_000:\n",
    "            print(\"too much iterations atol\")\n",
    "            break\n",
    "        elif cnt % 200 == 0 :\n",
    "            atol *= 1.01             \n",
    "    return sample, atol \n",
    "\n",
    "# Initialize and guess the sample \n",
    "sample = np.random.choice(categorical_values, population_size, p=p) # type: ignore\n",
    "sample, _ = close_to_mean(sample, target_average, atol, p)\n",
    "\n",
    "cnt = 0\n",
    "while np.std(sample) > target_std:\n",
    "    outliers = sample[(sample > np.mean(sample) + np.std(sample)) | (sample < np.mean(sample) - np.std(sample))]\n",
    "    mask = np.isin(sample, outliers, invert=True)\n",
    "    not_outliers  = sample[mask]    \n",
    "    arr_to_replace_lenght = len(outliers)\n",
    "    arr_to_replace = np.random.choice(categorical_values, arr_to_replace_lenght)\n",
    "    sample = np.concatenate((not_outliers, arr_to_replace))\n",
    "    sample, _ = close_to_mean(sample, target_average, atol, p)\n",
    "\n",
    "    cnt += 1\n",
    "    if cnt > 10_000:\n",
    "        print(\"too much iterations target_std\")\n",
    "        break\n",
    "    elif cnt % 200 == 0 :\n",
    "        target_std *= 1.01\n",
    "\n",
    "\n",
    "    \n",
    "     \n",
    "\n",
    "sample = np.sort(sample)\n",
    "print(\"Sample:\", sample)\n",
    "print(\"Average:\", np.mean(sample))\n",
    "print(\"Std dev:\", np.std(sample))"
   ]
  },
  {
   "cell_type": "code",
   "execution_count": 233,
   "metadata": {},
   "outputs": [
    {
     "name": "stdout",
     "output_type": "stream",
     "text": [
      "Generated sample: [46.48883787 51.66295445 46.45762597 35.35081292 28.85517363 51.99884295\n",
      " 52.45154655 45.20999709 51.41706626 45.90738226 42.36478982 51.28005934\n",
      " 53.22680366 53.78816861 48.58992694 77.55289871 31.22624325 60.37044003\n",
      " 41.9889611  46.79277928 50.21844535 22.09877564 42.29992368 58.66703512\n",
      " 38.15781683 39.43017993]\n",
      "Generated sample mean: 46.686672586592934\n"
     ]
    }
   ],
   "source": [
    "# Set the target mean and desired standard deviation\n",
    "target_mean = 50  # for example\n",
    "std_dev = 10      # standard deviation\n",
    "\n",
    "# Set the size of the sample\n",
    "sample_size = 26\n",
    "\n",
    "# Generate the random sample\n",
    "sample = np.random.normal(target_mean, std_dev, sample_size)\n",
    "\n",
    "# Check the mean of the generated sample\n",
    "actual_mean = np.mean(sample)\n",
    "\n",
    "print(\"Generated sample:\", sample)\n",
    "print(\"Generated sample mean:\", actual_mean)"
   ]
  },
  {
   "cell_type": "code",
   "execution_count": 240,
   "metadata": {},
   "outputs": [
    {
     "name": "stdout",
     "output_type": "stream",
     "text": [
      "Optimized Probabilities: [0.52 0.12 0.12 0.12 0.12]\n",
      "Expected Mean: 2.199999992474921\n"
     ]
    }
   ],
   "source": [
    "import numpy as np\n",
    "from scipy.optimize import minimize\n",
    "\n",
    "# Define the target mean\n",
    "target_mean = 2.2\n",
    "\n",
    "# Define the categories\n",
    "categories = np.array([1, 2, 3, 4, 5])\n",
    "\n",
    "# Function to calculate the difference from the target mean\n",
    "def mean_difference(probabilities):\n",
    "    expected_mean = np.sum(probabilities * categories)\n",
    "    return (expected_mean - target_mean) ** 2\n",
    "\n",
    "# Constraints: sum of probabilities must be 1\n",
    "cons = ({'type': 'eq', 'fun': lambda p: np.sum(p) - 1})\n",
    "\n",
    "# Bounds for each probability: must be between 0 and 1\n",
    "bounds = [(0, 1) for _ in categories]\n",
    "\n",
    "# Initial guess (uniform distribution)\n",
    "initial_probabilities = np.ones(len(categories)) / len(categories)\n",
    "\n",
    "# Use minimize function to find the best probabilities\n",
    "result = minimize(mean_difference, initial_probabilities, bounds=bounds, constraints=cons)\n",
    "\n",
    "# Check if the optimizer found a solution\n",
    "if result.success:\n",
    "    optimized_probabilities = result.x\n",
    "    print(\"Optimized Probabilities:\", optimized_probabilities)\n",
    "    print(\"Expected Mean:\", np.sum(optimized_probabilities * categories))\n",
    "else:\n",
    "    print(\"Optimization failed:\", result.message)"
   ]
  },
  {
   "cell_type": "code",
   "execution_count": 243,
   "metadata": {},
   "outputs": [
    {
     "data": {
      "text/plain": [
       "array([0.14285714, 0.23809524, 0.28571429, 0.19047619, 0.14285714])"
      ]
     },
     "execution_count": 243,
     "metadata": {},
     "output_type": "execute_result"
    }
   ],
   "source": [
    "probabilities = np.array([0.15, 0.25, 0.3, 0.2, 0.15])\n",
    "\n",
    "# Ensure probabilities sum to 1\n",
    "probabilities /= probabilities.sum()\n",
    "\n",
    "probabilities"
   ]
  },
  {
   "cell_type": "code",
   "execution_count": 250,
   "metadata": {},
   "outputs": [
    {
     "name": "stdout",
     "output_type": "stream",
     "text": [
      "13\n",
      "[0.38461538 0.38461538 0.07692308 0.07692308 0.07692308]\n",
      "1.0\n"
     ]
    }
   ],
   "source": [
    "probabilities = np.array([5, 5, 1, 1, 1])\n",
    "\n",
    "print(probabilities.sum())\n",
    "\n",
    "# Ensure probabilities sum to 1\n",
    "probabilities = probabilities / probabilities.sum()\n",
    "\n",
    "print(probabilities)\n",
    "print(probabilities.sum())"
   ]
  }
 ],
 "metadata": {
  "kernelspec": {
   "display_name": "Python 3",
   "language": "python",
   "name": "python3"
  },
  "language_info": {
   "codemirror_mode": {
    "name": "ipython",
    "version": 3
   },
   "file_extension": ".py",
   "mimetype": "text/x-python",
   "name": "python",
   "nbconvert_exporter": "python",
   "pygments_lexer": "ipython3",
   "version": "3.10.5"
  }
 },
 "nbformat": 4,
 "nbformat_minor": 2
}
