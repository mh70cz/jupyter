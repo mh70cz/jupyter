{
 "cells": [
  {
   "cell_type": "code",
   "execution_count": 1,
   "metadata": {},
   "outputs": [
    {
     "name": "stdout",
     "output_type": "stream",
     "text": [
      "cervena: nesviti, oranz: nesviti, zelena: nesviti\n",
      "cervena: nesviti, oranz: sviti, zelena: nesviti\n",
      "cervena: sviti, oranz: sviti, zelena: nesviti\n"
     ]
    }
   ],
   "source": [
    "def svetla(*, cervena = \"nesviti\", oranz = \"nesviti\", zelena = \"nesviti\" ):\n",
    "    print(f\"cervena: {cervena}, oranz: {oranz}, zelena: {zelena}\")\n",
    "\n",
    "svetla()\n",
    "svetla( oranz= \"sviti\" )\n",
    "svetla(cervena= \"sviti\", oranz= \"sviti\" )"
   ]
  },
  {
   "attachments": {},
   "cell_type": "markdown",
   "metadata": {},
   "source": [
    "You cannot define default values for **named** parametrs directly in the parameter definition in JavaScript like you can in Python.  \n",
    "Instead, you need to use destructuring and provide default values inside the function body.  "
   ]
  },
  {
   "attachments": {},
   "cell_type": "markdown",
   "metadata": {
    "vscode": {
     "languageId": "javascript"
    }
   },
   "source": [
    "```javascript\n",
    "function svetla(options) {\n",
    "    let { cervena = \"nesviti\", oranz = \"nesviti\", zelena = \"nesviti\" } =\n",
    "      options || {};\n",
    "    console.log(`cervena: ${cervena}, oranz: ${oranz}, zelena: ${zelena}`);\n",
    "  }\n",
    "  \n",
    "  svetla();\n",
    "  svetla({ oranz: \"sviti\" });\n",
    "  svetla({ cervena: \"sviti\", oranz: \"sviti\" });\n",
    "```  "
   ]
  },
  {
   "cell_type": "code",
   "execution_count": null,
   "metadata": {},
   "outputs": [
    {
     "data": {
      "application/javascript": "function svetla(options) {\n  let { cervena = \"nesviti\", oranz = \"nesviti\", zelena = \"nesviti\" } =\n    options || {};\n    return (`cervena: ${cervena}, oranz: ${oranz}, zelena: ${zelena}`);\n};\nlet z = svetla();\nelement.text(z);\n",
      "text/plain": [
       "<IPython.core.display.Javascript object>"
      ]
     },
     "metadata": {},
     "output_type": "display_data"
    }
   ],
   "source": [
    "%%js\n",
    "function svetla(options) {\n",
    "  let { cervena = \"nesviti\", oranz = \"nesviti\", zelena = \"nesviti\" } =\n",
    "    options || {};\n",
    "    return (`cervena: ${cervena}, oranz: ${oranz}, zelena: ${zelena}`);\n",
    "};\n",
    "let z = svetla();\n",
    "element.text(z);\n"
   ]
  },
  {
   "cell_type": "code",
   "execution_count": null,
   "metadata": {},
   "outputs": [
    {
     "data": {
      "application/javascript": "function svetla(options) {\n  let { cervena = \"nesviti\", oranz = \"nesviti\", zelena = \"nesviti\" } =\n    options || {};\n    return (`cervena: ${cervena}, oranz: ${oranz}, zelena: ${zelena}`);\n};\nlet z = svetla({ cervena: \"sviti\", oranz: \"sviti\" });\nelement.text(z);\n",
      "text/plain": [
       "<IPython.core.display.Javascript object>"
      ]
     },
     "metadata": {},
     "output_type": "display_data"
    }
   ],
   "source": [
    "%%js\n",
    "function svetla(options) {\n",
    "  let { cervena = \"nesviti\", oranz = \"nesviti\", zelena = \"nesviti\" } =\n",
    "    options || {};\n",
    "    return (`cervena: ${cervena}, oranz: ${oranz}, zelena: ${zelena}`);\n",
    "};\n",
    "let z = svetla({ cervena: \"sviti\", oranz: \"sviti\" });\n",
    "element.text(z);"
   ]
  },
  {
   "cell_type": "code",
   "execution_count": null,
   "metadata": {},
   "outputs": [],
   "source": [
    "from IPython.display import Javascript\n"
   ]
  },
  {
   "cell_type": "code",
   "execution_count": null,
   "metadata": {},
   "outputs": [
    {
     "data": {
      "application/javascript": "\nfunction svetla(options) {\n  let { cervena = \"nesviti\", oranz = \"nesviti\", zelena = \"nesviti\" } =\n    options || {};\n    return (`cervena: ${cervena}, oranz: ${oranz}, zelena: ${zelena}`);\n}    \nlet z = svetla({ cervena: \"sviti\", oranz: \"sviti\" });\nelement.text(z)\n",
      "text/plain": [
       "<IPython.core.display.Javascript object>"
      ]
     },
     "metadata": {},
     "output_type": "display_data"
    }
   ],
   "source": [
    "js_src = \"\"\"\n",
    "function svetla(options) {\n",
    "  let { cervena = \"nesviti\", oranz = \"nesviti\", zelena = \"nesviti\" } =\n",
    "    options || {};\n",
    "    return (`cervena: ${cervena}, oranz: ${oranz}, zelena: ${zelena}`);\n",
    "}    \n",
    "let z = svetla({ cervena: \"sviti\", oranz: \"sviti\" });\n",
    "element.text(z)\n",
    "\"\"\"\n",
    "jsvar=Javascript(js_src)\n",
    "display(jsvar)"
   ]
  },
  {
   "attachments": {},
   "cell_type": "markdown",
   "metadata": {},
   "source": [
    "Reuse function definition for multiple calls:"
   ]
  },
  {
   "cell_type": "code",
   "execution_count": null,
   "metadata": {},
   "outputs": [],
   "source": [
    "js_function_src = \"\"\"\n",
    "function svetla(options) {\n",
    "  let { cervena = \"nesviti\", oranz = \"nesviti\", zelena = \"nesviti\" } =\n",
    "    options || {};\n",
    "    return (`cervena: ${cervena}, oranz: ${oranz}, zelena: ${zelena}`);\n",
    "}    \n",
    "\n",
    "\"\"\""
   ]
  },
  {
   "cell_type": "code",
   "execution_count": null,
   "metadata": {},
   "outputs": [
    {
     "data": {
      "application/javascript": "\nfunction svetla(options) {\n  let { cervena = \"nesviti\", oranz = \"nesviti\", zelena = \"nesviti\" } =\n    options || {};\n    return (`cervena: ${cervena}, oranz: ${oranz}, zelena: ${zelena}`);\n}    \n\n\nlet z = svetla({ cervena: \"sviti\", oranz: \"sviti\" });\nelement.text(z)\n",
      "text/plain": [
       "<IPython.core.display.Javascript object>"
      ]
     },
     "metadata": {},
     "output_type": "display_data"
    }
   ],
   "source": [
    "js_call_1_src = \"\"\"\n",
    "let z = svetla({ cervena: \"sviti\", oranz: \"sviti\" });\n",
    "element.text(z)\n",
    "\"\"\"\n",
    "\n",
    "js_src = js_function_src + js_call_1_src\n",
    "jsvar=Javascript(js_src)\n",
    "display(jsvar)"
   ]
  },
  {
   "cell_type": "code",
   "execution_count": null,
   "metadata": {},
   "outputs": [
    {
     "data": {
      "application/javascript": "\nfunction svetla(options) {\n  let { cervena = \"nesviti\", oranz = \"nesviti\", zelena = \"nesviti\" } =\n    options || {};\n    return (`cervena: ${cervena}, oranz: ${oranz}, zelena: ${zelena}`);\n}    \n\n\nlet z = svetla(); //default values\nelement.text(z)\n",
      "text/plain": [
       "<IPython.core.display.Javascript object>"
      ]
     },
     "metadata": {},
     "output_type": "display_data"
    }
   ],
   "source": [
    "js_call_2_src = \"\"\"\n",
    "let z = svetla(); //default values\n",
    "element.text(z)\n",
    "\"\"\"\n",
    "\n",
    "js_src = js_function_src + js_call_2_src\n",
    "jsvar=Javascript(js_src)\n",
    "display(jsvar)"
   ]
  }
 ],
 "metadata": {
  "kernelspec": {
   "display_name": "Python 3",
   "language": "python",
   "name": "python3"
  },
  "language_info": {
   "codemirror_mode": {
    "name": "ipython",
    "version": 3
   },
   "file_extension": ".py",
   "mimetype": "text/x-python",
   "name": "python",
   "nbconvert_exporter": "python",
   "pygments_lexer": "ipython3",
   "version": "3.10.5"
  },
  "orig_nbformat": 4,
  "vscode": {
   "interpreter": {
    "hash": "369f2c481f4da34e4445cda3fffd2e751bd1c4d706f27375911949ba6bb62e1c"
   }
  }
 },
 "nbformat": 4,
 "nbformat_minor": 2
}
