{
 "cells": [
  {
   "cell_type": "markdown",
   "metadata": {},
   "source": [
    "# Enums"
   ]
  },
  {
   "cell_type": "code",
   "execution_count": 2,
   "metadata": {},
   "outputs": [],
   "source": [
    "from enum import Enum, IntEnum\n",
    "import random"
   ]
  },
  {
   "cell_type": "code",
   "execution_count": 6,
   "metadata": {},
   "outputs": [],
   "source": [
    "class BiteLevel(Enum):\n",
    "    INTRO  = 1\n",
    "    BEGINNER = 2\n",
    "    INTERMEDIATE = 3 \n",
    "    ADVANCED = 4\n",
    "\n",
    "    # custom defined - might be better to use IntEnum - see bellow\n",
    "    def __gt__(self, other):\n",
    "        return self.value > other.value\n",
    "    def __ge__(self, other):\n",
    "        return self.value >=  other.value\n",
    "    def __lt__(self,other):\n",
    "        return self.value < other.value\n",
    "    def __le__(self, other):\n",
    "        return self.value <= other.value\n",
    "\n",
    "    def __eq__(self, other):\n",
    "        return self.value == other"
   ]
  },
  {
   "cell_type": "markdown",
   "metadata": {},
   "source": [
    "Programmatic access to enumeration members and their attributes"
   ]
  },
  {
   "cell_type": "code",
   "execution_count": 33,
   "metadata": {},
   "outputs": [
    {
     "name": "stdout",
     "output_type": "stream",
     "text": [
      "BiteLevel.INTRO\n",
      "INTRO\n",
      "1\n"
     ]
    }
   ],
   "source": [
    "ev = BiteLevel(1)\n",
    "print (ev)\n",
    "print (ev.name)\n",
    "print (ev.value)"
   ]
  },
  {
   "cell_type": "code",
   "execution_count": 34,
   "metadata": {},
   "outputs": [
    {
     "name": "stdout",
     "output_type": "stream",
     "text": [
      "BiteLevel.INTRO\n",
      "INTRO\n",
      "1\n"
     ]
    }
   ],
   "source": [
    "ev2 = BiteLevel[\"INTRO\"]\n",
    "print (ev2)\n",
    "print (ev2.name)\n",
    "print (ev2.value)"
   ]
  },
  {
   "cell_type": "markdown",
   "metadata": {},
   "source": [
    "Test of manually created ```_lt__(), __le__(), __gt__(), __ge__(), __eq__()```"
   ]
  },
  {
   "cell_type": "code",
   "execution_count": 7,
   "metadata": {},
   "outputs": [
    {
     "name": "stdout",
     "output_type": "stream",
     "text": [
      "False\n",
      "[<BiteLevel.INTRO: 1>, <BiteLevel.BEGINNER: 2>, <BiteLevel.INTERMEDIATE: 3>, <BiteLevel.ADVANCED: 4>]\n",
      "[<BiteLevel.INTRO: 1>, <BiteLevel.BEGINNER: 2>, <BiteLevel.INTERMEDIATE: 3>, <BiteLevel.ADVANCED: 4>]\n",
      "[<BiteLevel.ADVANCED: 4>, <BiteLevel.INTRO: 1>, <BiteLevel.INTERMEDIATE: 3>, <BiteLevel.BEGINNER: 2>]\n",
      "[<BiteLevel.INTRO: 1>, <BiteLevel.BEGINNER: 2>, <BiteLevel.INTERMEDIATE: 3>, <BiteLevel.ADVANCED: 4>]\n",
      "True\n"
     ]
    }
   ],
   "source": [
    "\n",
    "res = BiteLevel.INTERMEDIATE < BiteLevel.BEGINNER\n",
    "print (res)\n",
    "\n",
    "lst = [\"INTRO\", \"BEGINNER\", \"INTERMEDIATE\", \"ADVANCED\"]\n",
    "bls_1 = [BiteLevel[name] for name in lst ]\n",
    "bls_2 = [BiteLevel(value) for value in range(1,5)]\n",
    "\n",
    "print(bls_1)\n",
    "print(bls_2)\n",
    "\n",
    "random.shuffle(lst)\n",
    "bls_3 = [BiteLevel[name] for name in lst]\n",
    "bls_4 = sorted(bls_3)\n",
    "\n",
    "print(bls_3)\n",
    "print(bls_4)\n",
    "\n",
    "print(BiteLevel.INTRO == 1)"
   ]
  },
  {
   "cell_type": "markdown",
   "metadata": {},
   "source": [
    "Access via attribute:"
   ]
  },
  {
   "cell_type": "code",
   "execution_count": null,
   "metadata": {},
   "outputs": [
    {
     "name": "stdout",
     "output_type": "stream",
     "text": [
      "Shape.SQUARE\n",
      "Shape.DIAMOND\n",
      "Shape.CIRCLE\n",
      "Shape.SQUARE\n"
     ]
    }
   ],
   "source": [
    "class Shape(Enum):\n",
    "    SQUARE = 2\n",
    "    DIAMOND = 1\n",
    "    CIRCLE = 3\n",
    "    ALIAS_FOR_SQUARE = 2\n",
    "\n",
    "keys = Shape.__members__.keys()\n",
    "\n",
    "for key in keys:\n",
    "    att = getattr(Shape, key)\n",
    "    print(att)"
   ]
  },
  {
   "cell_type": "code",
   "execution_count": 3,
   "metadata": {},
   "outputs": [],
   "source": [
    "class BiteLevel_2(IntEnum):\n",
    "    INTRO  = 1\n",
    "    BEGINNER = 2\n",
    "    INTERMEDIATE = 3 \n",
    "    ADVANCED = 4"
   ]
  },
  {
   "cell_type": "code",
   "execution_count": 8,
   "metadata": {},
   "outputs": [
    {
     "name": "stdout",
     "output_type": "stream",
     "text": [
      "False\n",
      "[<BiteLevel_2.INTRO: 1>, <BiteLevel_2.BEGINNER: 2>, <BiteLevel_2.INTERMEDIATE: 3>, <BiteLevel_2.ADVANCED: 4>]\n",
      "[<BiteLevel_2.INTRO: 1>, <BiteLevel_2.BEGINNER: 2>, <BiteLevel_2.INTERMEDIATE: 3>, <BiteLevel_2.ADVANCED: 4>]\n",
      "[<BiteLevel_2.INTRO: 1>, <BiteLevel_2.BEGINNER: 2>, <BiteLevel_2.INTERMEDIATE: 3>, <BiteLevel_2.ADVANCED: 4>]\n",
      "[<BiteLevel_2.INTRO: 1>, <BiteLevel_2.BEGINNER: 2>, <BiteLevel_2.INTERMEDIATE: 3>, <BiteLevel_2.ADVANCED: 4>]\n",
      "True\n"
     ]
    }
   ],
   "source": [
    "# For IntEnum there is no need to manually create  ```_lt__(), __le__(), __gt__(), __ge__(), __eq__()```\n",
    "res = BiteLevel_2.INTERMEDIATE < BiteLevel_2.BEGINNER\n",
    "print (res)\n",
    "\n",
    "lst = [\"INTRO\", \"BEGINNER\", \"INTERMEDIATE\", \"ADVANCED\"]\n",
    "bls_1 = [BiteLevel_2[name] for name in lst ]\n",
    "bls_2 = [BiteLevel_2(value) for value in range(1,5)]\n",
    "\n",
    "print(bls_1)\n",
    "print(bls_2)\n",
    "\n",
    "random.shuffle(lst)\n",
    "bls_3 = [BiteLevel_2[name] for name in lst]\n",
    "bls_4 = sorted(bls_3)\n",
    "\n",
    "print(bls_3)\n",
    "print(bls_4)\n",
    "\n",
    "print(BiteLevel.INTRO == 1)"
   ]
  }
 ],
 "metadata": {
  "interpreter": {
   "hash": "63fd5069d213b44bf678585dea6b12cceca9941eaf7f819626cde1f2670de90d"
  },
  "kernelspec": {
   "display_name": "Python 3.9.7 64-bit",
   "language": "python",
   "name": "python3"
  },
  "language_info": {
   "codemirror_mode": {
    "name": "ipython",
    "version": 3
   },
   "file_extension": ".py",
   "mimetype": "text/x-python",
   "name": "python",
   "nbconvert_exporter": "python",
   "pygments_lexer": "ipython3",
   "version": "3.9.7"
  },
  "orig_nbformat": 4
 },
 "nbformat": 4,
 "nbformat_minor": 2
}
