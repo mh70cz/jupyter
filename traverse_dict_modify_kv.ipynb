{
 "cells": [
  {
   "attachments": {},
   "cell_type": "markdown",
   "metadata": {},
   "source": [
    "Traverse dictionary and modify keys and values\n",
    "\n",
    "Dictionary may have (nested) lists.\n",
    "\n",
    "Modified values are supossed to be atomic (i.e not lists).\n",
    "\n",
    "\n",
    "Helper functions:"
   ]
  },
  {
   "cell_type": "code",
   "execution_count": 16,
   "metadata": {},
   "outputs": [],
   "source": [
    "def modify_key(k):\n",
    "    return k.lower()\n",
    "\n",
    "def modify_value(v):\n",
    "    return v.upper()"
   ]
  },
  {
   "attachments": {},
   "cell_type": "markdown",
   "metadata": {},
   "source": [
    "Traversing function (bellow variant with internal prints)"
   ]
  },
  {
   "cell_type": "code",
   "execution_count": 17,
   "metadata": {},
   "outputs": [],
   "source": [
    "def modify_kv(data):\n",
    "    if isinstance(data, dict):\n",
    "        return {modify_key(k): modify_kv(v)\n",
    "                for k, v in data.items()}\n",
    "    elif isinstance(data, list):\n",
    "        return [modify_kv(d) for d in data]\n",
    "    else:        \n",
    "        return modify_value(data)"
   ]
  },
  {
   "cell_type": "code",
   "execution_count": 18,
   "metadata": {},
   "outputs": [
    {
     "data": {
      "text/plain": [
       "{'random': ['LUKE',\n",
       "  ['BLOWING UP THE DEATH STAR',\n",
       "   {'skillname': 'BULLS-EYE WOMPRATS', 'skillparameters': 'WITH MY T47'}]]}"
      ]
     },
     "execution_count": 18,
     "metadata": {},
     "output_type": "execute_result"
    }
   ],
   "source": [
    "data = {\n",
    "    \"random\": [\n",
    "        \"Luke\",\n",
    "        [\n",
    "            \"blowing up the death star\",\n",
    "            {\"skillName\": \"bulls-eye womprats\",\n",
    "                \"skillParameters\": \"with my T47\"},\n",
    "        ],\n",
    "    ]\n",
    "}\n",
    "\n",
    "modify_kv(data)    "
   ]
  },
  {
   "cell_type": "code",
   "execution_count": 19,
   "metadata": {},
   "outputs": [
    {
     "data": {
      "text/plain": [
       "{'darthvader': {'firstname': 'ANAKIN',\n",
       "  'lastname': 'SKYWALKER',\n",
       "  'appearance': {'helmetcolor': 'BLACK',\n",
       "   'armorcolor': 'BLACK',\n",
       "   'capecolor': 'BLACK'}}}"
      ]
     },
     "execution_count": 19,
     "metadata": {},
     "output_type": "execute_result"
    }
   ],
   "source": [
    "data = {\n",
    "    \"darthVader\": {\n",
    "        \"firstName\": \"Anakin\",\n",
    "        \"lastName\": \"Skywalker\",\n",
    "        \"appearance\": {\n",
    "            \"helmetColor\": \"black\",\n",
    "            \"armorColor\": \"black\",\n",
    "            \"capeColor\": \"black\",\n",
    "        },\n",
    "    }\n",
    "}\n",
    "\n",
    "modify_kv(data)  "
   ]
  },
  {
   "attachments": {},
   "cell_type": "markdown",
   "metadata": {},
   "source": [
    "Version with internal prints"
   ]
  },
  {
   "cell_type": "code",
   "execution_count": 20,
   "metadata": {},
   "outputs": [],
   "source": [
    "def modify_key(k):\n",
    "    return k.lower()\n",
    "\n",
    "def modify_value(v):\n",
    "    return v.upper()\n",
    "\n",
    "def modify_kv(data):\n",
    "    print(\"data: \", end=\" \")\n",
    "    print(data) \n",
    "    if isinstance(data, dict):\n",
    "        d = {modify_key(k): modify_kv(v) for k, v in data.items()}\n",
    "        print(\"dict: \", end=\" \")\n",
    "        print(d)\n",
    "        return d\n",
    "    elif isinstance(data, list):\n",
    "        return [modify_kv(d) for d in data]\n",
    "    else:     \n",
    "        return modify_value(data)    "
   ]
  }
 ],
 "metadata": {
  "kernelspec": {
   "display_name": "Python 3",
   "language": "python",
   "name": "python3"
  },
  "language_info": {
   "codemirror_mode": {
    "name": "ipython",
    "version": 3
   },
   "file_extension": ".py",
   "mimetype": "text/x-python",
   "name": "python",
   "nbconvert_exporter": "python",
   "pygments_lexer": "ipython3",
   "version": "3.10.5"
  },
  "orig_nbformat": 4,
  "vscode": {
   "interpreter": {
    "hash": "369f2c481f4da34e4445cda3fffd2e751bd1c4d706f27375911949ba6bb62e1c"
   }
  }
 },
 "nbformat": 4,
 "nbformat_minor": 2
}
